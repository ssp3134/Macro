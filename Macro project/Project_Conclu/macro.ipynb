{
 "cells": [
  {
   "cell_type": "code",
   "execution_count": 18,
   "id": "d0d493c5",
   "metadata": {},
   "outputs": [],
   "source": [
    "import pandas as pd\n",
    "import numpy as np\n",
    "import matplotlib.pyplot as plt\n",
    "import seaborn as sns"
   ]
  },
  {
   "cell_type": "code",
   "execution_count": 19,
   "id": "5bb58714",
   "metadata": {},
   "outputs": [
    {
     "data": {
      "text/plain": [
       "(84, 5)"
      ]
     },
     "execution_count": 19,
     "metadata": {},
     "output_type": "execute_result"
    }
   ],
   "source": [
    "data = pd.read_csv('macro-data.csv')\n",
    "data.shape"
   ]
  },
  {
   "cell_type": "code",
   "execution_count": 20,
   "id": "adbdab24",
   "metadata": {},
   "outputs": [
    {
     "data": {
      "text/plain": [
       "DATE           object\n",
       "PCE           float64\n",
       "GDP           float64\n",
       "PCE_Change    float64\n",
       "GDP_Change    float64\n",
       "dtype: object"
      ]
     },
     "execution_count": 20,
     "metadata": {},
     "output_type": "execute_result"
    }
   ],
   "source": [
    "data.dtypes"
   ]
  },
  {
   "cell_type": "code",
   "execution_count": 21,
   "id": "3c00df4e",
   "metadata": {},
   "outputs": [
    {
     "data": {
      "text/html": [
       "<div>\n",
       "<style scoped>\n",
       "    .dataframe tbody tr th:only-of-type {\n",
       "        vertical-align: middle;\n",
       "    }\n",
       "\n",
       "    .dataframe tbody tr th {\n",
       "        vertical-align: top;\n",
       "    }\n",
       "\n",
       "    .dataframe thead th {\n",
       "        text-align: right;\n",
       "    }\n",
       "</style>\n",
       "<table border=\"1\" class=\"dataframe\">\n",
       "  <thead>\n",
       "    <tr style=\"text-align: right;\">\n",
       "      <th></th>\n",
       "      <th>DATE</th>\n",
       "      <th>PCE</th>\n",
       "      <th>GDP</th>\n",
       "      <th>PCE_Change</th>\n",
       "      <th>GDP_Change</th>\n",
       "    </tr>\n",
       "  </thead>\n",
       "  <tbody>\n",
       "    <tr>\n",
       "      <th>0</th>\n",
       "      <td>2002-01-01</td>\n",
       "      <td>7217.733333</td>\n",
       "      <td>10783.500</td>\n",
       "      <td>0.42343</td>\n",
       "      <td>1.15412</td>\n",
       "    </tr>\n",
       "    <tr>\n",
       "      <th>1</th>\n",
       "      <td>2002-04-01</td>\n",
       "      <td>7307.966667</td>\n",
       "      <td>10887.460</td>\n",
       "      <td>1.25016</td>\n",
       "      <td>0.96407</td>\n",
       "    </tr>\n",
       "    <tr>\n",
       "      <th>2</th>\n",
       "      <td>2002-07-01</td>\n",
       "      <td>7397.133333</td>\n",
       "      <td>10984.040</td>\n",
       "      <td>1.22013</td>\n",
       "      <td>0.88708</td>\n",
       "    </tr>\n",
       "    <tr>\n",
       "      <th>3</th>\n",
       "      <td>2002-10-01</td>\n",
       "      <td>7472.966667</td>\n",
       "      <td>11061.433</td>\n",
       "      <td>1.02517</td>\n",
       "      <td>0.70460</td>\n",
       "    </tr>\n",
       "    <tr>\n",
       "      <th>4</th>\n",
       "      <td>2003-01-01</td>\n",
       "      <td>7567.133333</td>\n",
       "      <td>11174.129</td>\n",
       "      <td>1.26010</td>\n",
       "      <td>1.01882</td>\n",
       "    </tr>\n",
       "    <tr>\n",
       "      <th>...</th>\n",
       "      <td>...</td>\n",
       "      <td>...</td>\n",
       "      <td>...</td>\n",
       "      <td>...</td>\n",
       "      <td>...</td>\n",
       "    </tr>\n",
       "    <tr>\n",
       "      <th>79</th>\n",
       "      <td>2021-10-01</td>\n",
       "      <td>16518.000000</td>\n",
       "      <td>24349.121</td>\n",
       "      <td>2.29574</td>\n",
       "      <td>3.39145</td>\n",
       "    </tr>\n",
       "    <tr>\n",
       "      <th>80</th>\n",
       "      <td>2022-01-01</td>\n",
       "      <td>16874.766667</td>\n",
       "      <td>24740.480</td>\n",
       "      <td>2.15987</td>\n",
       "      <td>1.60728</td>\n",
       "    </tr>\n",
       "    <tr>\n",
       "      <th>81</th>\n",
       "      <td>2022-04-01</td>\n",
       "      <td>17261.366667</td>\n",
       "      <td>25248.476</td>\n",
       "      <td>2.29099</td>\n",
       "      <td>2.05330</td>\n",
       "    </tr>\n",
       "    <tr>\n",
       "      <th>82</th>\n",
       "      <td>2022-07-01</td>\n",
       "      <td>17542.666667</td>\n",
       "      <td>25723.941</td>\n",
       "      <td>1.62965</td>\n",
       "      <td>1.88314</td>\n",
       "    </tr>\n",
       "    <tr>\n",
       "      <th>83</th>\n",
       "      <td>2022-10-01</td>\n",
       "      <td>17749.900000</td>\n",
       "      <td>26137.992</td>\n",
       "      <td>1.18131</td>\n",
       "      <td>1.60959</td>\n",
       "    </tr>\n",
       "  </tbody>\n",
       "</table>\n",
       "<p>84 rows × 5 columns</p>\n",
       "</div>"
      ],
      "text/plain": [
       "          DATE           PCE        GDP  PCE_Change  GDP_Change\n",
       "0   2002-01-01   7217.733333  10783.500     0.42343     1.15412\n",
       "1   2002-04-01   7307.966667  10887.460     1.25016     0.96407\n",
       "2   2002-07-01   7397.133333  10984.040     1.22013     0.88708\n",
       "3   2002-10-01   7472.966667  11061.433     1.02517     0.70460\n",
       "4   2003-01-01   7567.133333  11174.129     1.26010     1.01882\n",
       "..         ...           ...        ...         ...         ...\n",
       "79  2021-10-01  16518.000000  24349.121     2.29574     3.39145\n",
       "80  2022-01-01  16874.766667  24740.480     2.15987     1.60728\n",
       "81  2022-04-01  17261.366667  25248.476     2.29099     2.05330\n",
       "82  2022-07-01  17542.666667  25723.941     1.62965     1.88314\n",
       "83  2022-10-01  17749.900000  26137.992     1.18131     1.60959\n",
       "\n",
       "[84 rows x 5 columns]"
      ]
     },
     "execution_count": 21,
     "metadata": {},
     "output_type": "execute_result"
    }
   ],
   "source": [
    "data.head(data.shape[0])"
   ]
  },
  {
   "cell_type": "code",
   "execution_count": 22,
   "id": "2f0a3c80",
   "metadata": {},
   "outputs": [],
   "source": [
    "covid_data = data[((data['DATE'] >= '2020') & (data['DATE'] < '2022'))]\n",
    "financial_crisis_data = data[((data.DATE >= '2008') & (data.DATE < '2010'))]\n",
    "non_crises_data = data.loc[~(((data.DATE>='2008') & (data.DATE<'2010')) | ((data.DATE>='2020') & (data.DATE<'2022')))]"
   ]
  },
  {
   "cell_type": "code",
   "execution_count": 23,
   "id": "4399e645",
   "metadata": {},
   "outputs": [
    {
     "data": {
      "text/plain": [
       "84"
      ]
     },
     "execution_count": 23,
     "metadata": {},
     "output_type": "execute_result"
    }
   ],
   "source": [
    "covid_data.shape[0] + financial_crisis_data.shape[0] + non_crises_data.shape[0]"
   ]
  },
  {
   "cell_type": "code",
   "execution_count": 24,
   "id": "3ea7ee16",
   "metadata": {},
   "outputs": [
    {
     "data": {
      "text/plain": [
       "68"
      ]
     },
     "execution_count": 24,
     "metadata": {},
     "output_type": "execute_result"
    }
   ],
   "source": [
    "non_crises_data.shape[0]"
   ]
  },
  {
   "cell_type": "code",
   "execution_count": 25,
   "id": "72f91bef",
   "metadata": {},
   "outputs": [
    {
     "data": {
      "text/html": [
       "<div>\n",
       "<style scoped>\n",
       "    .dataframe tbody tr th:only-of-type {\n",
       "        vertical-align: middle;\n",
       "    }\n",
       "\n",
       "    .dataframe tbody tr th {\n",
       "        vertical-align: top;\n",
       "    }\n",
       "\n",
       "    .dataframe thead th {\n",
       "        text-align: right;\n",
       "    }\n",
       "</style>\n",
       "<table border=\"1\" class=\"dataframe\">\n",
       "  <thead>\n",
       "    <tr style=\"text-align: right;\">\n",
       "      <th></th>\n",
       "      <th>DATE</th>\n",
       "      <th>PCE</th>\n",
       "      <th>GDP</th>\n",
       "      <th>PCE_Change</th>\n",
       "      <th>GDP_Change</th>\n",
       "    </tr>\n",
       "  </thead>\n",
       "  <tbody>\n",
       "    <tr>\n",
       "      <th>0</th>\n",
       "      <td>2020-01-01</td>\n",
       "      <td>14440.166667</td>\n",
       "      <td>21538.032</td>\n",
       "      <td>-1.22374</td>\n",
       "      <td>-0.77626</td>\n",
       "    </tr>\n",
       "    <tr>\n",
       "      <th>1</th>\n",
       "      <td>2020-04-01</td>\n",
       "      <td>13049.766667</td>\n",
       "      <td>19636.731</td>\n",
       "      <td>-9.62870</td>\n",
       "      <td>-8.82764</td>\n",
       "    </tr>\n",
       "    <tr>\n",
       "      <th>2</th>\n",
       "      <td>2020-07-01</td>\n",
       "      <td>14388.733333</td>\n",
       "      <td>21362.428</td>\n",
       "      <td>10.26046</td>\n",
       "      <td>8.78811</td>\n",
       "    </tr>\n",
       "    <tr>\n",
       "      <th>3</th>\n",
       "      <td>2020-10-01</td>\n",
       "      <td>14586.066667</td>\n",
       "      <td>21704.706</td>\n",
       "      <td>1.37144</td>\n",
       "      <td>1.60224</td>\n",
       "    </tr>\n",
       "    <tr>\n",
       "      <th>4</th>\n",
       "      <td>2021-01-01</td>\n",
       "      <td>15131.500000</td>\n",
       "      <td>22313.850</td>\n",
       "      <td>3.73941</td>\n",
       "      <td>2.80651</td>\n",
       "    </tr>\n",
       "    <tr>\n",
       "      <th>5</th>\n",
       "      <td>2021-04-01</td>\n",
       "      <td>15813.533333</td>\n",
       "      <td>23046.934</td>\n",
       "      <td>4.50737</td>\n",
       "      <td>3.28533</td>\n",
       "    </tr>\n",
       "    <tr>\n",
       "      <th>6</th>\n",
       "      <td>2021-07-01</td>\n",
       "      <td>16147.300000</td>\n",
       "      <td>23550.420</td>\n",
       "      <td>2.11064</td>\n",
       "      <td>2.18461</td>\n",
       "    </tr>\n",
       "    <tr>\n",
       "      <th>7</th>\n",
       "      <td>2021-10-01</td>\n",
       "      <td>16518.000000</td>\n",
       "      <td>24349.121</td>\n",
       "      <td>2.29574</td>\n",
       "      <td>3.39145</td>\n",
       "    </tr>\n",
       "  </tbody>\n",
       "</table>\n",
       "</div>"
      ],
      "text/plain": [
       "         DATE           PCE        GDP  PCE_Change  GDP_Change\n",
       "0  2020-01-01  14440.166667  21538.032    -1.22374    -0.77626\n",
       "1  2020-04-01  13049.766667  19636.731    -9.62870    -8.82764\n",
       "2  2020-07-01  14388.733333  21362.428    10.26046     8.78811\n",
       "3  2020-10-01  14586.066667  21704.706     1.37144     1.60224\n",
       "4  2021-01-01  15131.500000  22313.850     3.73941     2.80651\n",
       "5  2021-04-01  15813.533333  23046.934     4.50737     3.28533\n",
       "6  2021-07-01  16147.300000  23550.420     2.11064     2.18461\n",
       "7  2021-10-01  16518.000000  24349.121     2.29574     3.39145"
      ]
     },
     "execution_count": 25,
     "metadata": {},
     "output_type": "execute_result"
    }
   ],
   "source": [
    "covid_data.reset_index(drop=True)"
   ]
  },
  {
   "cell_type": "code",
   "execution_count": 26,
   "id": "47af3103",
   "metadata": {},
   "outputs": [
    {
     "data": {
      "text/html": [
       "<div>\n",
       "<style scoped>\n",
       "    .dataframe tbody tr th:only-of-type {\n",
       "        vertical-align: middle;\n",
       "    }\n",
       "\n",
       "    .dataframe tbody tr th {\n",
       "        vertical-align: top;\n",
       "    }\n",
       "\n",
       "    .dataframe thead th {\n",
       "        text-align: right;\n",
       "    }\n",
       "</style>\n",
       "<table border=\"1\" class=\"dataframe\">\n",
       "  <thead>\n",
       "    <tr style=\"text-align: right;\">\n",
       "      <th></th>\n",
       "      <th>DATE</th>\n",
       "      <th>PCE</th>\n",
       "      <th>GDP</th>\n",
       "      <th>PCE_Change</th>\n",
       "      <th>GDP_Change</th>\n",
       "    </tr>\n",
       "  </thead>\n",
       "  <tbody>\n",
       "    <tr>\n",
       "      <th>0</th>\n",
       "      <td>2008-01-01</td>\n",
       "      <td>10004.466667</td>\n",
       "      <td>14706.538</td>\n",
       "      <td>0.67759</td>\n",
       "      <td>-0.05790</td>\n",
       "    </tr>\n",
       "    <tr>\n",
       "      <th>1</th>\n",
       "      <td>2008-04-01</td>\n",
       "      <td>10129.900000</td>\n",
       "      <td>14865.701</td>\n",
       "      <td>1.25377</td>\n",
       "      <td>1.08226</td>\n",
       "    </tr>\n",
       "    <tr>\n",
       "      <th>2</th>\n",
       "      <td>2008-07-01</td>\n",
       "      <td>10159.066667</td>\n",
       "      <td>14898.999</td>\n",
       "      <td>0.28793</td>\n",
       "      <td>0.22399</td>\n",
       "    </tr>\n",
       "    <tr>\n",
       "      <th>3</th>\n",
       "      <td>2008-10-01</td>\n",
       "      <td>9906.933333</td>\n",
       "      <td>14608.208</td>\n",
       "      <td>-2.48186</td>\n",
       "      <td>-1.95175</td>\n",
       "    </tr>\n",
       "    <tr>\n",
       "      <th>4</th>\n",
       "      <td>2009-01-01</td>\n",
       "      <td>9814.966667</td>\n",
       "      <td>14430.901</td>\n",
       "      <td>-0.92831</td>\n",
       "      <td>-1.21375</td>\n",
       "    </tr>\n",
       "    <tr>\n",
       "      <th>5</th>\n",
       "      <td>2009-04-01</td>\n",
       "      <td>9805.500000</td>\n",
       "      <td>14381.236</td>\n",
       "      <td>-0.09645</td>\n",
       "      <td>-0.34416</td>\n",
       "    </tr>\n",
       "    <tr>\n",
       "      <th>6</th>\n",
       "      <td>2009-07-01</td>\n",
       "      <td>9939.400000</td>\n",
       "      <td>14448.882</td>\n",
       "      <td>1.36556</td>\n",
       "      <td>0.47038</td>\n",
       "    </tr>\n",
       "    <tr>\n",
       "      <th>7</th>\n",
       "      <td>2009-10-01</td>\n",
       "      <td>10005.000000</td>\n",
       "      <td>14651.248</td>\n",
       "      <td>0.66000</td>\n",
       "      <td>1.40057</td>\n",
       "    </tr>\n",
       "  </tbody>\n",
       "</table>\n",
       "</div>"
      ],
      "text/plain": [
       "         DATE           PCE        GDP  PCE_Change  GDP_Change\n",
       "0  2008-01-01  10004.466667  14706.538     0.67759    -0.05790\n",
       "1  2008-04-01  10129.900000  14865.701     1.25377     1.08226\n",
       "2  2008-07-01  10159.066667  14898.999     0.28793     0.22399\n",
       "3  2008-10-01   9906.933333  14608.208    -2.48186    -1.95175\n",
       "4  2009-01-01   9814.966667  14430.901    -0.92831    -1.21375\n",
       "5  2009-04-01   9805.500000  14381.236    -0.09645    -0.34416\n",
       "6  2009-07-01   9939.400000  14448.882     1.36556     0.47038\n",
       "7  2009-10-01  10005.000000  14651.248     0.66000     1.40057"
      ]
     },
     "execution_count": 26,
     "metadata": {},
     "output_type": "execute_result"
    }
   ],
   "source": [
    "financial_crisis_data.reset_index(drop=True)"
   ]
  },
  {
   "cell_type": "markdown",
   "id": "e2744cc0",
   "metadata": {},
   "source": [
    "# REGRESSION ON OVERALL DATA"
   ]
  },
  {
   "cell_type": "code",
   "execution_count": 27,
   "id": "6336cf07",
   "metadata": {},
   "outputs": [],
   "source": [
    "from sklearn.linear_model import LinearRegression"
   ]
  },
  {
   "cell_type": "code",
   "execution_count": 28,
   "id": "23ef5920",
   "metadata": {},
   "outputs": [
    {
     "data": {
      "text/html": [
       "<div>\n",
       "<style scoped>\n",
       "    .dataframe tbody tr th:only-of-type {\n",
       "        vertical-align: middle;\n",
       "    }\n",
       "\n",
       "    .dataframe tbody tr th {\n",
       "        vertical-align: top;\n",
       "    }\n",
       "\n",
       "    .dataframe thead th {\n",
       "        text-align: right;\n",
       "    }\n",
       "</style>\n",
       "<table border=\"1\" class=\"dataframe\">\n",
       "  <thead>\n",
       "    <tr style=\"text-align: right;\">\n",
       "      <th></th>\n",
       "      <th>DATE</th>\n",
       "      <th>PCE</th>\n",
       "      <th>GDP</th>\n",
       "      <th>PCE_Change</th>\n",
       "      <th>GDP_Change</th>\n",
       "    </tr>\n",
       "  </thead>\n",
       "  <tbody>\n",
       "    <tr>\n",
       "      <th>0</th>\n",
       "      <td>2002-01-01</td>\n",
       "      <td>7217.733333</td>\n",
       "      <td>10783.500</td>\n",
       "      <td>0.42343</td>\n",
       "      <td>1.15412</td>\n",
       "    </tr>\n",
       "    <tr>\n",
       "      <th>1</th>\n",
       "      <td>2002-04-01</td>\n",
       "      <td>7307.966667</td>\n",
       "      <td>10887.460</td>\n",
       "      <td>1.25016</td>\n",
       "      <td>0.96407</td>\n",
       "    </tr>\n",
       "    <tr>\n",
       "      <th>2</th>\n",
       "      <td>2002-07-01</td>\n",
       "      <td>7397.133333</td>\n",
       "      <td>10984.040</td>\n",
       "      <td>1.22013</td>\n",
       "      <td>0.88708</td>\n",
       "    </tr>\n",
       "    <tr>\n",
       "      <th>3</th>\n",
       "      <td>2002-10-01</td>\n",
       "      <td>7472.966667</td>\n",
       "      <td>11061.433</td>\n",
       "      <td>1.02517</td>\n",
       "      <td>0.70460</td>\n",
       "    </tr>\n",
       "    <tr>\n",
       "      <th>4</th>\n",
       "      <td>2003-01-01</td>\n",
       "      <td>7567.133333</td>\n",
       "      <td>11174.129</td>\n",
       "      <td>1.26010</td>\n",
       "      <td>1.01882</td>\n",
       "    </tr>\n",
       "  </tbody>\n",
       "</table>\n",
       "</div>"
      ],
      "text/plain": [
       "         DATE          PCE        GDP  PCE_Change  GDP_Change\n",
       "0  2002-01-01  7217.733333  10783.500     0.42343     1.15412\n",
       "1  2002-04-01  7307.966667  10887.460     1.25016     0.96407\n",
       "2  2002-07-01  7397.133333  10984.040     1.22013     0.88708\n",
       "3  2002-10-01  7472.966667  11061.433     1.02517     0.70460\n",
       "4  2003-01-01  7567.133333  11174.129     1.26010     1.01882"
      ]
     },
     "execution_count": 28,
     "metadata": {},
     "output_type": "execute_result"
    }
   ],
   "source": [
    "overall_data = data\n",
    "overall_data.head()"
   ]
  },
  {
   "cell_type": "code",
   "execution_count": 29,
   "id": "29020421",
   "metadata": {},
   "outputs": [],
   "source": [
    "overall_data['CRIS_PERIOD'] = np.zeros(overall_data.shape[0], dtype= np.int64)"
   ]
  },
  {
   "cell_type": "code",
   "execution_count": 30,
   "id": "3c867c6b",
   "metadata": {},
   "outputs": [],
   "source": [
    "overall_data[((data.DATE>='2008') & (data.DATE<='2009')) | ((data.DATE>='2020') & (data.DATE<='2021'))] = 1"
   ]
  },
  {
   "cell_type": "code",
   "execution_count": 31,
   "id": "0888ae29",
   "metadata": {},
   "outputs": [
    {
     "data": {
      "text/plain": [
       "Index(['DATE', 'PCE', 'GDP', 'PCE_Change', 'GDP_Change', 'CRIS_PERIOD'], dtype='object')"
      ]
     },
     "execution_count": 31,
     "metadata": {},
     "output_type": "execute_result"
    }
   ],
   "source": [
    "overall_data.columns"
   ]
  },
  {
   "cell_type": "code",
   "execution_count": 32,
   "id": "145e41be",
   "metadata": {},
   "outputs": [],
   "source": [
    "X = overall_data[['PCE_Change', 'CRIS_PERIOD']]\n",
    "y = overall_data['GDP_Change']"
   ]
  },
  {
   "cell_type": "code",
   "execution_count": 33,
   "id": "cc013519",
   "metadata": {},
   "outputs": [
    {
     "data": {
      "image/png": "[encoded data removed]",
      "text/plain": [
       "<Figure size 640x480 with 1 Axes>"
      ]
     },
     "metadata": {},
     "output_type": "display_data"
    }
   ],
   "source": [
    "plt.scatter(X['PCE_Change'], X['CRIS_PERIOD'])\n",
    "plt.show()"
   ]
  },
  {
   "cell_type": "code",
   "execution_count": 34,
   "id": "2b5b281c",
   "metadata": {},
   "outputs": [
    {
     "data": {
      "text/plain": [
       "array([ 0.77335367, -0.03968569])"
      ]
     },
     "execution_count": 34,
     "metadata": {},
     "output_type": "execute_result"
    }
   ],
   "source": [
    "reg_model = LinearRegression().fit(X, y)\n",
    "reg_model.coef_"
   ]
  },
  {
   "cell_type": "code",
   "execution_count": 35,
   "id": "868a28ca",
   "metadata": {},
   "outputs": [
    {
     "data": {
      "text/plain": [
       "0.26633201358973624"
      ]
     },
     "execution_count": 35,
     "metadata": {},
     "output_type": "execute_result"
    }
   ],
   "source": [
    "reg_model.intercept_"
   ]
  },
  {
   "cell_type": "markdown",
   "id": "362c3bf0",
   "metadata": {},
   "source": [
    "GDP_PCH = 0.77*PCE_PCH - 0.039*CRIS_PERIOD + 0.266"
   ]
  },
  {
   "cell_type": "code",
   "execution_count": 36,
   "id": "d4f113bd",
   "metadata": {},
   "outputs": [
    {
     "data": {
      "text/plain": [
       "array([ 0.84757782, -0.0374257 ])"
      ]
     },
     "execution_count": 36,
     "metadata": {},
     "output_type": "execute_result"
    }
   ],
   "source": [
    "X = overall_data[['GDP_Change', 'CRIS_PERIOD']]\n",
    "y = overall_data['PCE_Change']\n",
    "\n",
    "reg_model_rev = LinearRegression().fit(X,y)\n",
    "reg_model_rev.coef_"
   ]
  },
  {
   "cell_type": "code",
   "execution_count": 37,
   "id": "63b04640",
   "metadata": {},
   "outputs": [
    {
     "data": {
      "text/plain": [
       "0.1898478716504569"
      ]
     },
     "execution_count": 37,
     "metadata": {},
     "output_type": "execute_result"
    }
   ],
   "source": [
    "reg_model_rev.intercept_"
   ]
  },
  {
   "cell_type": "markdown",
   "id": "d76553e6",
   "metadata": {},
   "source": [
    "PCE_PCH = 0.84*GDP_PCH - 0.037*CRIS_PERIOD + 0.189"
   ]
  },
  {
   "cell_type": "markdown",
   "id": "148d75c3",
   "metadata": {},
   "source": [
    "## REGRESSION ON NON-CRISES DATA"
   ]
  },
  {
   "cell_type": "code",
   "execution_count": 38,
   "id": "0ace7a1c",
   "metadata": {},
   "outputs": [],
   "source": [
    "non_crises_data = non_crises_data.reset_index(drop=True)"
   ]
  },
  {
   "cell_type": "code",
   "execution_count": 39,
   "id": "3a5722f4",
   "metadata": {},
   "outputs": [
    {
     "data": {
      "text/html": [
       "<div>\n",
       "<style scoped>\n",
       "    .dataframe tbody tr th:only-of-type {\n",
       "        vertical-align: middle;\n",
       "    }\n",
       "\n",
       "    .dataframe tbody tr th {\n",
       "        vertical-align: top;\n",
       "    }\n",
       "\n",
       "    .dataframe thead th {\n",
       "        text-align: right;\n",
       "    }\n",
       "</style>\n",
       "<table border=\"1\" class=\"dataframe\">\n",
       "  <thead>\n",
       "    <tr style=\"text-align: right;\">\n",
       "      <th></th>\n",
       "      <th>DATE</th>\n",
       "      <th>PCE</th>\n",
       "      <th>GDP</th>\n",
       "      <th>PCE_Change</th>\n",
       "      <th>GDP_Change</th>\n",
       "    </tr>\n",
       "  </thead>\n",
       "  <tbody>\n",
       "    <tr>\n",
       "      <th>0</th>\n",
       "      <td>2002-01-01</td>\n",
       "      <td>7217.733333</td>\n",
       "      <td>10783.500</td>\n",
       "      <td>0.42343</td>\n",
       "      <td>1.15412</td>\n",
       "    </tr>\n",
       "    <tr>\n",
       "      <th>1</th>\n",
       "      <td>2002-04-01</td>\n",
       "      <td>7307.966667</td>\n",
       "      <td>10887.460</td>\n",
       "      <td>1.25016</td>\n",
       "      <td>0.96407</td>\n",
       "    </tr>\n",
       "    <tr>\n",
       "      <th>2</th>\n",
       "      <td>2002-07-01</td>\n",
       "      <td>7397.133333</td>\n",
       "      <td>10984.040</td>\n",
       "      <td>1.22013</td>\n",
       "      <td>0.88708</td>\n",
       "    </tr>\n",
       "    <tr>\n",
       "      <th>3</th>\n",
       "      <td>2002-10-01</td>\n",
       "      <td>7472.966667</td>\n",
       "      <td>11061.433</td>\n",
       "      <td>1.02517</td>\n",
       "      <td>0.70460</td>\n",
       "    </tr>\n",
       "    <tr>\n",
       "      <th>4</th>\n",
       "      <td>2003-01-01</td>\n",
       "      <td>7567.133333</td>\n",
       "      <td>11174.129</td>\n",
       "      <td>1.26010</td>\n",
       "      <td>1.01882</td>\n",
       "    </tr>\n",
       "    <tr>\n",
       "      <th>5</th>\n",
       "      <td>2003-04-01</td>\n",
       "      <td>7661.466667</td>\n",
       "      <td>11312.766</td>\n",
       "      <td>1.24662</td>\n",
       "      <td>1.24070</td>\n",
       "    </tr>\n",
       "    <tr>\n",
       "      <th>6</th>\n",
       "      <td>2003-07-01</td>\n",
       "      <td>7820.933333</td>\n",
       "      <td>11566.669</td>\n",
       "      <td>2.08141</td>\n",
       "      <td>2.24439</td>\n",
       "    </tr>\n",
       "    <tr>\n",
       "      <th>7</th>\n",
       "      <td>2003-10-01</td>\n",
       "      <td>7913.466667</td>\n",
       "      <td>11772.234</td>\n",
       "      <td>1.18315</td>\n",
       "      <td>1.77722</td>\n",
       "    </tr>\n",
       "    <tr>\n",
       "      <th>8</th>\n",
       "      <td>2004-01-01</td>\n",
       "      <td>8048.766667</td>\n",
       "      <td>11923.447</td>\n",
       "      <td>1.70974</td>\n",
       "      <td>1.28449</td>\n",
       "    </tr>\n",
       "    <tr>\n",
       "      <th>9</th>\n",
       "      <td>2004-04-01</td>\n",
       "      <td>8147.100000</td>\n",
       "      <td>12112.815</td>\n",
       "      <td>1.22172</td>\n",
       "      <td>1.58820</td>\n",
       "    </tr>\n",
       "  </tbody>\n",
       "</table>\n",
       "</div>"
      ],
      "text/plain": [
       "         DATE          PCE        GDP  PCE_Change  GDP_Change\n",
       "0  2002-01-01  7217.733333  10783.500     0.42343     1.15412\n",
       "1  2002-04-01  7307.966667  10887.460     1.25016     0.96407\n",
       "2  2002-07-01  7397.133333  10984.040     1.22013     0.88708\n",
       "3  2002-10-01  7472.966667  11061.433     1.02517     0.70460\n",
       "4  2003-01-01  7567.133333  11174.129     1.26010     1.01882\n",
       "5  2003-04-01  7661.466667  11312.766     1.24662     1.24070\n",
       "6  2003-07-01  7820.933333  11566.669     2.08141     2.24439\n",
       "7  2003-10-01  7913.466667  11772.234     1.18315     1.77722\n",
       "8  2004-01-01  8048.766667  11923.447     1.70974     1.28449\n",
       "9  2004-04-01  8147.100000  12112.815     1.22172     1.58820"
      ]
     },
     "execution_count": 39,
     "metadata": {},
     "output_type": "execute_result"
    }
   ],
   "source": [
    "non_crises_data.head(10)"
   ]
  },
  {
   "cell_type": "code",
   "execution_count": 40,
   "id": "640748c2",
   "metadata": {},
   "outputs": [],
   "source": [
    "for i in range(non_crises_data.shape[0]):\n",
    "    month = non_crises_data.loc[i, 'DATE'][5:7]\n",
    "    quarter = 1\n",
    "    if   (month == '01'):\n",
    "        quarter = 1\n",
    "    elif (month == '04'):\n",
    "        quarter = 2\n",
    "    elif (month == '07'):\n",
    "        quarter = 3\n",
    "    else:\n",
    "        quarter = 4\n",
    "    non_crises_data.loc[i,'DATE'] = quarter"
   ]
  },
  {
   "cell_type": "code",
   "execution_count": 41,
   "id": "c0e903d5",
   "metadata": {},
   "outputs": [],
   "source": [
    "# non_crises_data"
   ]
  },
  {
   "cell_type": "code",
   "execution_count": 42,
   "id": "8abb75f6",
   "metadata": {},
   "outputs": [
    {
     "data": {
      "text/plain": [
       "array([0.63605114])"
      ]
     },
     "execution_count": 42,
     "metadata": {},
     "output_type": "execute_result"
    }
   ],
   "source": [
    "X = non_crises_data[['GDP_Change']]\n",
    "y = non_crises_data['PCE_Change']\n",
    "\n",
    "reg_model = LinearRegression().fit(X,y)\n",
    "reg_model.coef_"
   ]
  },
  {
   "cell_type": "code",
   "execution_count": 43,
   "id": "8bda39bf",
   "metadata": {},
   "outputs": [
    {
     "data": {
      "text/plain": [
       "0.40696096755737776"
      ]
     },
     "execution_count": 43,
     "metadata": {},
     "output_type": "execute_result"
    }
   ],
   "source": [
    "reg_model.intercept_"
   ]
  },
  {
   "cell_type": "markdown",
   "id": "c2f58b5e",
   "metadata": {},
   "source": [
    "# REGRESSION ON COVID PERIOD"
   ]
  },
  {
   "cell_type": "code",
   "execution_count": 44,
   "id": "ec7fc9a0",
   "metadata": {},
   "outputs": [],
   "source": [
    "covid_data = covid_data.reset_index(drop=True)"
   ]
  },
  {
   "cell_type": "code",
   "execution_count": 45,
   "id": "afbd5ec9",
   "metadata": {},
   "outputs": [],
   "source": [
    "for i in range(covid_data.shape[0]):\n",
    "    month = covid_data.loc[i, 'DATE'][5:7]\n",
    "    quarter = 1\n",
    "    if   (month == '01'):\n",
    "        quarter = 1\n",
    "    elif (month == '04'):\n",
    "        quarter = 2\n",
    "    elif (month == '07'):\n",
    "        quarter = 3\n",
    "    else:\n",
    "        quarter = 4\n",
    "    covid_data.loc[i,'DATE'] = quarter"
   ]
  },
  {
   "cell_type": "code",
   "execution_count": 46,
   "id": "500c7740",
   "metadata": {},
   "outputs": [
    {
     "data": {
      "text/html": [
       "<div>\n",
       "<style scoped>\n",
       "    .dataframe tbody tr th:only-of-type {\n",
       "        vertical-align: middle;\n",
       "    }\n",
       "\n",
       "    .dataframe tbody tr th {\n",
       "        vertical-align: top;\n",
       "    }\n",
       "\n",
       "    .dataframe thead th {\n",
       "        text-align: right;\n",
       "    }\n",
       "</style>\n",
       "<table border=\"1\" class=\"dataframe\">\n",
       "  <thead>\n",
       "    <tr style=\"text-align: right;\">\n",
       "      <th></th>\n",
       "      <th>DATE</th>\n",
       "      <th>PCE</th>\n",
       "      <th>GDP</th>\n",
       "      <th>PCE_Change</th>\n",
       "      <th>GDP_Change</th>\n",
       "    </tr>\n",
       "  </thead>\n",
       "  <tbody>\n",
       "    <tr>\n",
       "      <th>0</th>\n",
       "      <td>1</td>\n",
       "      <td>14440.166667</td>\n",
       "      <td>21538.032</td>\n",
       "      <td>-1.22374</td>\n",
       "      <td>-0.77626</td>\n",
       "    </tr>\n",
       "    <tr>\n",
       "      <th>1</th>\n",
       "      <td>2</td>\n",
       "      <td>13049.766667</td>\n",
       "      <td>19636.731</td>\n",
       "      <td>-9.62870</td>\n",
       "      <td>-8.82764</td>\n",
       "    </tr>\n",
       "    <tr>\n",
       "      <th>2</th>\n",
       "      <td>3</td>\n",
       "      <td>14388.733333</td>\n",
       "      <td>21362.428</td>\n",
       "      <td>10.26046</td>\n",
       "      <td>8.78811</td>\n",
       "    </tr>\n",
       "    <tr>\n",
       "      <th>3</th>\n",
       "      <td>4</td>\n",
       "      <td>14586.066667</td>\n",
       "      <td>21704.706</td>\n",
       "      <td>1.37144</td>\n",
       "      <td>1.60224</td>\n",
       "    </tr>\n",
       "    <tr>\n",
       "      <th>4</th>\n",
       "      <td>1</td>\n",
       "      <td>15131.500000</td>\n",
       "      <td>22313.850</td>\n",
       "      <td>3.73941</td>\n",
       "      <td>2.80651</td>\n",
       "    </tr>\n",
       "  </tbody>\n",
       "</table>\n",
       "</div>"
      ],
      "text/plain": [
       "  DATE           PCE        GDP  PCE_Change  GDP_Change\n",
       "0    1  14440.166667  21538.032    -1.22374    -0.77626\n",
       "1    2  13049.766667  19636.731    -9.62870    -8.82764\n",
       "2    3  14388.733333  21362.428    10.26046     8.78811\n",
       "3    4  14586.066667  21704.706     1.37144     1.60224\n",
       "4    1  15131.500000  22313.850     3.73941     2.80651"
      ]
     },
     "execution_count": 46,
     "metadata": {},
     "output_type": "execute_result"
    }
   ],
   "source": [
    "covid_data.head()"
   ]
  },
  {
   "cell_type": "code",
   "execution_count": 47,
   "id": "efd6b287",
   "metadata": {},
   "outputs": [
    {
     "data": {
      "text/plain": [
       "array([1.12203928])"
      ]
     },
     "execution_count": 47,
     "metadata": {},
     "output_type": "execute_result"
    }
   ],
   "source": [
    "X = covid_data[['GDP_Change']]\n",
    "y = covid_data['PCE_Change']\n",
    "\n",
    "reg_model = LinearRegression().fit(X,y)\n",
    "reg_model.coef_"
   ]
  },
  {
   "cell_type": "code",
   "execution_count": 48,
   "id": "8a543d77",
   "metadata": {},
   "outputs": [
    {
     "data": {
      "text/plain": [
       "-0.06770623918582053"
      ]
     },
     "execution_count": 48,
     "metadata": {},
     "output_type": "execute_result"
    }
   ],
   "source": [
    "reg_model.intercept_"
   ]
  },
  {
   "cell_type": "markdown",
   "id": "f5bd7f4f",
   "metadata": {},
   "source": [
    "# QUARTER WISE ANALYSIS"
   ]
  },
  {
   "cell_type": "code",
   "execution_count": 49,
   "id": "ed42ee63",
   "metadata": {},
   "outputs": [
    {
     "data": {
      "text/html": [
       "<div>\n",
       "<style scoped>\n",
       "    .dataframe tbody tr th:only-of-type {\n",
       "        vertical-align: middle;\n",
       "    }\n",
       "\n",
       "    .dataframe tbody tr th {\n",
       "        vertical-align: top;\n",
       "    }\n",
       "\n",
       "    .dataframe thead th {\n",
       "        text-align: right;\n",
       "    }\n",
       "</style>\n",
       "<table border=\"1\" class=\"dataframe\">\n",
       "  <thead>\n",
       "    <tr style=\"text-align: right;\">\n",
       "      <th></th>\n",
       "      <th>DATE</th>\n",
       "      <th>PCE</th>\n",
       "      <th>GDP</th>\n",
       "      <th>PCE_Change</th>\n",
       "      <th>GDP_Change</th>\n",
       "    </tr>\n",
       "  </thead>\n",
       "  <tbody>\n",
       "    <tr>\n",
       "      <th>0</th>\n",
       "      <td>1</td>\n",
       "      <td>7217.733333</td>\n",
       "      <td>10783.500</td>\n",
       "      <td>0.42343</td>\n",
       "      <td>1.15412</td>\n",
       "    </tr>\n",
       "    <tr>\n",
       "      <th>1</th>\n",
       "      <td>2</td>\n",
       "      <td>7307.966667</td>\n",
       "      <td>10887.460</td>\n",
       "      <td>1.25016</td>\n",
       "      <td>0.96407</td>\n",
       "    </tr>\n",
       "    <tr>\n",
       "      <th>2</th>\n",
       "      <td>3</td>\n",
       "      <td>7397.133333</td>\n",
       "      <td>10984.040</td>\n",
       "      <td>1.22013</td>\n",
       "      <td>0.88708</td>\n",
       "    </tr>\n",
       "    <tr>\n",
       "      <th>3</th>\n",
       "      <td>4</td>\n",
       "      <td>7472.966667</td>\n",
       "      <td>11061.433</td>\n",
       "      <td>1.02517</td>\n",
       "      <td>0.70460</td>\n",
       "    </tr>\n",
       "    <tr>\n",
       "      <th>4</th>\n",
       "      <td>1</td>\n",
       "      <td>7567.133333</td>\n",
       "      <td>11174.129</td>\n",
       "      <td>1.26010</td>\n",
       "      <td>1.01882</td>\n",
       "    </tr>\n",
       "  </tbody>\n",
       "</table>\n",
       "</div>"
      ],
      "text/plain": [
       "  DATE          PCE        GDP  PCE_Change  GDP_Change\n",
       "0    1  7217.733333  10783.500     0.42343     1.15412\n",
       "1    2  7307.966667  10887.460     1.25016     0.96407\n",
       "2    3  7397.133333  10984.040     1.22013     0.88708\n",
       "3    4  7472.966667  11061.433     1.02517     0.70460\n",
       "4    1  7567.133333  11174.129     1.26010     1.01882"
      ]
     },
     "execution_count": 49,
     "metadata": {},
     "output_type": "execute_result"
    }
   ],
   "source": [
    "non_crises_data.head()"
   ]
  },
  {
   "cell_type": "code",
   "execution_count": 50,
   "id": "b195ca4e",
   "metadata": {},
   "outputs": [],
   "source": [
    "q1_data = non_crises_data[non_crises_data.DATE == 1]\n",
    "q2_data = non_crises_data[non_crises_data.DATE == 2]\n",
    "q3_data = non_crises_data[non_crises_data.DATE == 3]\n",
    "q4_data = non_crises_data[non_crises_data.DATE == 4]"
   ]
  },
  {
   "cell_type": "code",
   "execution_count": 51,
   "id": "7064a234",
   "metadata": {},
   "outputs": [
    {
     "data": {
      "text/plain": [
       "(array([0.47775723]), 0.6127399053210343)"
      ]
     },
     "execution_count": 51,
     "metadata": {},
     "output_type": "execute_result"
    }
   ],
   "source": [
    "X = q1_data[['GDP_Change']]\n",
    "y = q1_data['PCE_Change']\n",
    "\n",
    "reg_model = LinearRegression().fit(X,y)\n",
    "reg_model.coef_, reg_model.intercept_"
   ]
  },
  {
   "cell_type": "code",
   "execution_count": 52,
   "id": "3e809474",
   "metadata": {},
   "outputs": [
    {
     "data": {
      "text/plain": [
       "(array([0.93414546]), 0.009390058277763513)"
      ]
     },
     "execution_count": 52,
     "metadata": {},
     "output_type": "execute_result"
    }
   ],
   "source": [
    "X = q2_data[['GDP_Change']]\n",
    "y = q2_data['PCE_Change']\n",
    "\n",
    "reg_model = LinearRegression().fit(X,y)\n",
    "reg_model.coef_, reg_model.intercept_"
   ]
  },
  {
   "cell_type": "code",
   "execution_count": 53,
   "id": "bd866753",
   "metadata": {},
   "outputs": [
    {
     "data": {
      "text/plain": [
       "(array([0.72778965]), 0.31600338456697896)"
      ]
     },
     "execution_count": 53,
     "metadata": {},
     "output_type": "execute_result"
    }
   ],
   "source": [
    "X = q3_data[['GDP_Change']]\n",
    "y = q3_data['PCE_Change']\n",
    "\n",
    "reg_model = LinearRegression().fit(X,y)\n",
    "reg_model.coef_, reg_model.intercept_"
   ]
  },
  {
   "cell_type": "code",
   "execution_count": 54,
   "id": "0b984a6f",
   "metadata": {},
   "outputs": [
    {
     "data": {
      "text/plain": [
       "(array([0.54705164]), 0.4779154855703125)"
      ]
     },
     "execution_count": 54,
     "metadata": {},
     "output_type": "execute_result"
    }
   ],
   "source": [
    "X = q4_data[['GDP_Change']]\n",
    "y = q4_data['PCE_Change']\n",
    "\n",
    "reg_model = LinearRegression().fit(X,y)\n",
    "reg_model.coef_, reg_model.intercept_"
   ]
  },
  {
   "cell_type": "code",
   "execution_count": 55,
   "id": "643ded38",
   "metadata": {},
   "outputs": [
    {
     "data": {
      "image/png": "[encoded data removed]",
      "text/plain": [
       "<Figure size 640x480 with 1 Axes>"
      ]
     },
     "metadata": {},
     "output_type": "display_data"
    }
   ],
   "source": [
    "plt.plot(q1_data['GDP_Change'], q1_data['PCE_Change'])\n",
    "plt.show()"
   ]
  },
  {
   "cell_type": "code",
   "execution_count": 56,
   "id": "620467d8",
   "metadata": {},
   "outputs": [
    {
     "data": {
      "image/png": "[encoded data removed]",
      "text/plain": [
       "<Figure size 640x480 with 1 Axes>"
      ]
     },
     "metadata": {},
     "output_type": "display_data"
    }
   ],
   "source": [
    "plt.plot('GDP_Change', 'PCE_Change', data = q2_data)\n",
    "plt.show()"
   ]
  },
  {
   "cell_type": "code",
   "execution_count": 57,
   "id": "d8489d4d",
   "metadata": {},
   "outputs": [],
   "source": [
    "financial_crisis_data = financial_crisis_data.reset_index(drop=True)"
   ]
  },
  {
   "cell_type": "code",
   "execution_count": 58,
   "id": "5f1bce61",
   "metadata": {},
   "outputs": [],
   "source": [
    "for i in range(financial_crisis_data.shape[0]):\n",
    "    month = financial_crisis_data.loc[i, 'DATE'][5:7]\n",
    "    quarter = 1\n",
    "    if   (month == '01'):\n",
    "        quarter = 1\n",
    "    elif (month == '04'):\n",
    "        quarter = 2\n",
    "    elif (month == '07'):\n",
    "        quarter = 3\n",
    "    else:\n",
    "        quarter = 4\n",
    "    financial_crisis_data.loc[i,'DATE'] = quarter"
   ]
  },
  {
   "cell_type": "code",
   "execution_count": 59,
   "id": "c10f7615",
   "metadata": {},
   "outputs": [
    {
     "data": {
      "text/html": [
       "<div>\n",
       "<style scoped>\n",
       "    .dataframe tbody tr th:only-of-type {\n",
       "        vertical-align: middle;\n",
       "    }\n",
       "\n",
       "    .dataframe tbody tr th {\n",
       "        vertical-align: top;\n",
       "    }\n",
       "\n",
       "    .dataframe thead th {\n",
       "        text-align: right;\n",
       "    }\n",
       "</style>\n",
       "<table border=\"1\" class=\"dataframe\">\n",
       "  <thead>\n",
       "    <tr style=\"text-align: right;\">\n",
       "      <th></th>\n",
       "      <th>DATE</th>\n",
       "      <th>PCE</th>\n",
       "      <th>GDP</th>\n",
       "      <th>PCE_Change</th>\n",
       "      <th>GDP_Change</th>\n",
       "    </tr>\n",
       "  </thead>\n",
       "  <tbody>\n",
       "    <tr>\n",
       "      <th>0</th>\n",
       "      <td>1</td>\n",
       "      <td>10004.466667</td>\n",
       "      <td>14706.538</td>\n",
       "      <td>0.67759</td>\n",
       "      <td>-0.05790</td>\n",
       "    </tr>\n",
       "    <tr>\n",
       "      <th>1</th>\n",
       "      <td>2</td>\n",
       "      <td>10129.900000</td>\n",
       "      <td>14865.701</td>\n",
       "      <td>1.25377</td>\n",
       "      <td>1.08226</td>\n",
       "    </tr>\n",
       "    <tr>\n",
       "      <th>2</th>\n",
       "      <td>3</td>\n",
       "      <td>10159.066667</td>\n",
       "      <td>14898.999</td>\n",
       "      <td>0.28793</td>\n",
       "      <td>0.22399</td>\n",
       "    </tr>\n",
       "    <tr>\n",
       "      <th>3</th>\n",
       "      <td>4</td>\n",
       "      <td>9906.933333</td>\n",
       "      <td>14608.208</td>\n",
       "      <td>-2.48186</td>\n",
       "      <td>-1.95175</td>\n",
       "    </tr>\n",
       "    <tr>\n",
       "      <th>4</th>\n",
       "      <td>1</td>\n",
       "      <td>9814.966667</td>\n",
       "      <td>14430.901</td>\n",
       "      <td>-0.92831</td>\n",
       "      <td>-1.21375</td>\n",
       "    </tr>\n",
       "  </tbody>\n",
       "</table>\n",
       "</div>"
      ],
      "text/plain": [
       "  DATE           PCE        GDP  PCE_Change  GDP_Change\n",
       "0    1  10004.466667  14706.538     0.67759    -0.05790\n",
       "1    2  10129.900000  14865.701     1.25377     1.08226\n",
       "2    3  10159.066667  14898.999     0.28793     0.22399\n",
       "3    4   9906.933333  14608.208    -2.48186    -1.95175\n",
       "4    1   9814.966667  14430.901    -0.92831    -1.21375"
      ]
     },
     "execution_count": 59,
     "metadata": {},
     "output_type": "execute_result"
    }
   ],
   "source": [
    "financial_crisis_data.head()"
   ]
  },
  {
   "cell_type": "code",
   "execution_count": 60,
   "id": "6171ee5c",
   "metadata": {},
   "outputs": [],
   "source": [
    "q1_data_cris = financial_crisis_data[financial_crisis_data.DATE == 1]\n",
    "q2_data_cris = financial_crisis_data[financial_crisis_data.DATE == 2]\n",
    "q3_data_cris = financial_crisis_data[financial_crisis_data.DATE == 3]\n",
    "q4_data_cris = financial_crisis_data[financial_crisis_data.DATE == 4]"
   ]
  },
  {
   "cell_type": "code",
   "execution_count": 61,
   "id": "e5abeebc",
   "metadata": {},
   "outputs": [
    {
     "data": {
      "text/plain": [
       "(array([1.38936713]), 0.7580343569667347)"
      ]
     },
     "execution_count": 61,
     "metadata": {},
     "output_type": "execute_result"
    }
   ],
   "source": [
    "X = q1_data_cris[['GDP_Change']]\n",
    "y = q1_data_cris['PCE_Change']\n",
    "\n",
    "reg_model = LinearRegression().fit(X,y)\n",
    "reg_model.coef_, reg_model.intercept_"
   ]
  },
  {
   "cell_type": "code",
   "execution_count": 62,
   "id": "bb4b34fa",
   "metadata": {},
   "outputs": [
    {
     "data": {
      "text/plain": [
       "(array([0.94657955]), 0.22932481751517803)"
      ]
     },
     "execution_count": 62,
     "metadata": {},
     "output_type": "execute_result"
    }
   ],
   "source": [
    "X = q2_data_cris[['GDP_Change']]\n",
    "y = q2_data_cris['PCE_Change']\n",
    "\n",
    "reg_model = LinearRegression().fit(X,y)\n",
    "reg_model.coef_, reg_model.intercept_"
   ]
  },
  {
   "cell_type": "code",
   "execution_count": 63,
   "id": "0b0a9092",
   "metadata": {},
   "outputs": [
    {
     "data": {
      "text/plain": [
       "(array([4.37367588]), -0.6917296602946545)"
      ]
     },
     "execution_count": 63,
     "metadata": {},
     "output_type": "execute_result"
    }
   ],
   "source": [
    "X = q3_data_cris[['GDP_Change']]\n",
    "y = q3_data_cris['PCE_Change']\n",
    "\n",
    "reg_model = LinearRegression().fit(X,y)\n",
    "reg_model.coef_, reg_model.intercept_"
   ]
  },
  {
   "cell_type": "code",
   "execution_count": 64,
   "id": "4b4eafc0",
   "metadata": {},
   "outputs": [
    {
     "data": {
      "text/plain": [
       "(array([0.9372196]), -0.6526416512146812)"
      ]
     },
     "execution_count": 64,
     "metadata": {},
     "output_type": "execute_result"
    }
   ],
   "source": [
    "X = q4_data_cris[['GDP_Change']]\n",
    "y = q4_data_cris['PCE_Change']\n",
    "\n",
    "reg_model = LinearRegression().fit(X,y)\n",
    "reg_model.coef_, reg_model.intercept_"
   ]
  },
  {
   "cell_type": "code",
   "execution_count": 65,
   "id": "0415836a",
   "metadata": {},
   "outputs": [
    {
     "data": {
      "text/html": [
       "<div>\n",
       "<style scoped>\n",
       "    .dataframe tbody tr th:only-of-type {\n",
       "        vertical-align: middle;\n",
       "    }\n",
       "\n",
       "    .dataframe tbody tr th {\n",
       "        vertical-align: top;\n",
       "    }\n",
       "\n",
       "    .dataframe thead th {\n",
       "        text-align: right;\n",
       "    }\n",
       "</style>\n",
       "<table border=\"1\" class=\"dataframe\">\n",
       "  <thead>\n",
       "    <tr style=\"text-align: right;\">\n",
       "      <th></th>\n",
       "      <th>DATE</th>\n",
       "      <th>PCE</th>\n",
       "      <th>GDP</th>\n",
       "      <th>PCE_Change</th>\n",
       "      <th>GDP_Change</th>\n",
       "      <th>CRIS_PERIOD</th>\n",
       "    </tr>\n",
       "  </thead>\n",
       "  <tbody>\n",
       "    <tr>\n",
       "      <th>0</th>\n",
       "      <td>2002-01-01</td>\n",
       "      <td>7217.733333</td>\n",
       "      <td>10783.500</td>\n",
       "      <td>0.42343</td>\n",
       "      <td>1.15412</td>\n",
       "      <td>0</td>\n",
       "    </tr>\n",
       "    <tr>\n",
       "      <th>1</th>\n",
       "      <td>2002-04-01</td>\n",
       "      <td>7307.966667</td>\n",
       "      <td>10887.460</td>\n",
       "      <td>1.25016</td>\n",
       "      <td>0.96407</td>\n",
       "      <td>0</td>\n",
       "    </tr>\n",
       "    <tr>\n",
       "      <th>2</th>\n",
       "      <td>2002-07-01</td>\n",
       "      <td>7397.133333</td>\n",
       "      <td>10984.040</td>\n",
       "      <td>1.22013</td>\n",
       "      <td>0.88708</td>\n",
       "      <td>0</td>\n",
       "    </tr>\n",
       "    <tr>\n",
       "      <th>3</th>\n",
       "      <td>2002-10-01</td>\n",
       "      <td>7472.966667</td>\n",
       "      <td>11061.433</td>\n",
       "      <td>1.02517</td>\n",
       "      <td>0.70460</td>\n",
       "      <td>0</td>\n",
       "    </tr>\n",
       "    <tr>\n",
       "      <th>4</th>\n",
       "      <td>2003-01-01</td>\n",
       "      <td>7567.133333</td>\n",
       "      <td>11174.129</td>\n",
       "      <td>1.26010</td>\n",
       "      <td>1.01882</td>\n",
       "      <td>0</td>\n",
       "    </tr>\n",
       "  </tbody>\n",
       "</table>\n",
       "</div>"
      ],
      "text/plain": [
       "         DATE          PCE        GDP  PCE_Change  GDP_Change  CRIS_PERIOD\n",
       "0  2002-01-01  7217.733333  10783.500     0.42343     1.15412            0\n",
       "1  2002-04-01  7307.966667  10887.460     1.25016     0.96407            0\n",
       "2  2002-07-01  7397.133333  10984.040     1.22013     0.88708            0\n",
       "3  2002-10-01  7472.966667  11061.433     1.02517     0.70460            0\n",
       "4  2003-01-01  7567.133333  11174.129     1.26010     1.01882            0"
      ]
     },
     "execution_count": 65,
     "metadata": {},
     "output_type": "execute_result"
    }
   ],
   "source": [
    "data.head()"
   ]
  },
  {
   "cell_type": "code",
   "execution_count": 66,
   "id": "ed5c8a8f",
   "metadata": {},
   "outputs": [
    {
     "data": {
      "image/png": "[encoded data removed]",
      "text/plain": [
       "<Figure size 640x480 with 2 Axes>"
      ]
     },
     "metadata": {},
     "output_type": "display_data"
    }
   ],
   "source": [
    "sns.heatmap(data[['CRIS_PERIOD', 'PCE', 'GDP']].corr(), annot = True)\n",
    "plt.title(\"Corelation between crises, GDP and PCE\")\n",
    "plt.show()"
   ]
  },
  {
   "cell_type": "code",
   "execution_count": null,
   "id": "c3674bce",
   "metadata": {},
   "outputs": [],
   "source": []
  }
 ],
 "metadata": {
  "kernelspec": {
   "display_name": "Python 3 (ipykernel)",
   "language": "python",
   "name": "python3"
  },
  "language_info": {
   "codemirror_mode": {
    "name": "ipython",
    "version": 3
   },
   "file_extension": ".py",
   "mimetype": "text/x-python",
   "name": "python",
   "nbconvert_exporter": "python",
   "pygments_lexer": "ipython3",
   "version": "3.9.13"
  }
 },
 "nbformat": 4,
 "nbformat_minor": 5
}
